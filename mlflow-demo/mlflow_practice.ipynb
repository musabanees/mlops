{
 "cells": [
  {
   "cell_type": "markdown",
   "id": "2f2f17a0",
   "metadata": {},
   "source": [
    "## MLFlow Tracking and Server Setup"
   ]
  },
  {
   "cell_type": "code",
   "execution_count": 1,
   "id": "65850aba",
   "metadata": {},
   "outputs": [],
   "source": [
    "import os\n",
    "import warnings\n",
    "import sys\n",
    "import pandas as pd\n",
    "import numpy as np\n",
    "import pickle\n",
    "from sklearn.metrics import mean_absolute_error, f1_score , accuracy_score\n",
    "from sklearn.model_selection import train_test_split\n",
    "from sklearn.ensemble import RandomForestClassifier\n",
    "from sklearn.datasets import load_iris\n",
    "import mlflow\n",
    "import logging\n",
    "import dagshub\n"
   ]
  },
  {
   "cell_type": "markdown",
   "id": "9ff806be",
   "metadata": {},
   "source": [
    "### Set MLflow to use the remote DagsHub tracking server and initialize DagsHub integration for experiment logging"
   ]
  },
  {
   "cell_type": "code",
   "execution_count": 2,
   "id": "73d5a41c",
   "metadata": {},
   "outputs": [
    {
     "data": {
      "text/html": [
       "<pre style=\"white-space:pre;overflow-x:auto;line-height:normal;font-family:Menlo,'DejaVu Sans Mono',consolas,'Courier New',monospace\">Accessing as masaba019\n",
       "</pre>\n"
      ],
      "text/plain": [
       "Accessing as masaba019\n"
      ]
     },
     "metadata": {},
     "output_type": "display_data"
    },
    {
     "data": {
      "text/html": [
       "<pre style=\"white-space:pre;overflow-x:auto;line-height:normal;font-family:Menlo,'DejaVu Sans Mono',consolas,'Courier New',monospace\">Initialized MLflow to track repo <span style=\"color: #008000; text-decoration-color: #008000\">\"masaba019/mlops\"</span>\n",
       "</pre>\n"
      ],
      "text/plain": [
       "Initialized MLflow to track repo \u001b[32m\"masaba019/mlops\"\u001b[0m\n"
      ]
     },
     "metadata": {},
     "output_type": "display_data"
    },
    {
     "data": {
      "text/html": [
       "<pre style=\"white-space:pre;overflow-x:auto;line-height:normal;font-family:Menlo,'DejaVu Sans Mono',consolas,'Courier New',monospace\">Repository masaba019/mlops initialized!\n",
       "</pre>\n"
      ],
      "text/plain": [
       "Repository masaba019/mlops initialized!\n"
      ]
     },
     "metadata": {},
     "output_type": "display_data"
    }
   ],
   "source": [
    "remote_server_uri = \"https://dagshub.com/masaba019/mlops.mlflow\"\n",
    "mlflow.set_tracking_uri(remote_server_uri)\n",
    "dagshub.init(repo_owner='masaba019', repo_name='mlops', mlflow=True)"
   ]
  },
  {
   "cell_type": "markdown",
   "id": "1d07a5ee",
   "metadata": {},
   "source": [
    "# Running the Experiments and Runs\n",
    "* mlflow.create_experiment(experiment_name) tries to create a new experiment with the given name and returns its ID. If the experiment already exists, it raises an exception, so the code catches it and retrieves the existing experiment's ID with mlflow.get_experiment_by_name(experiment_name).\n",
    "* mlflow.set_experiment(experiment_name) then sets this experiment as the active one, so all subsequent runs and logs are associated with it. This ensures your tracking is organized under the correct experiment. Would you like a step-by-step breakdown?"
   ]
  },
  {
   "cell_type": "code",
   "execution_count": 3,
   "id": "9753ee5e",
   "metadata": {},
   "outputs": [
    {
     "name": "stdout",
     "output_type": "stream",
     "text": [
      "Run ID:  c430b1f554eb4b99859d15973adf6bb7\n",
      "Expeirment ID:  1\n",
      "🏃 View run first_model at: https://dagshub.com/masaba019/mlops.mlflow/#/experiments/1/runs/c430b1f554eb4b99859d15973adf6bb7\n",
      "🧪 View experiment at: https://dagshub.com/masaba019/mlops.mlflow/#/experiments/1\n"
     ]
    }
   ],
   "source": [
    "# Load data\n",
    "X, y = load_iris(return_X_y=True)\n",
    "X_train, X_test, y_train, y_test = train_test_split(X, y, test_size=0.2)\n",
    "\n",
    "\n",
    "experiment_name = \"iris_classification\"\n",
    "try:\n",
    "    experiment_id = mlflow.create_experiment(experiment_name)\n",
    "except:\n",
    "    experiment_id = mlflow.get_experiment_by_name(experiment_name).experiment_id\n",
    "\n",
    "mlflow.set_experiment(experiment_name)\n",
    "\n",
    "# Running the Experiments and Runs\n",
    "with mlflow.start_run(run_name=\"first_model\") as run:\n",
    "    print(\"Run ID: \", run.info.run_id)\n",
    "    print(\"Expeirment ID: \", run.info.experiment_id)\n"
   ]
  },
  {
   "cell_type": "markdown",
   "id": "36196122",
   "metadata": {},
   "source": [
    "# Adding the Metrics and Parameters"
   ]
  },
  {
   "cell_type": "code",
   "execution_count": 11,
   "id": "ef3be470",
   "metadata": {},
   "outputs": [
    {
     "name": "stdout",
     "output_type": "stream",
     "text": [
      "Run ID:  258d139ac9ef4c7d8c01bb24934b66c0\n",
      "Experiment ID: 1\n",
      "Accuracy: 0.9666666666666667\n",
      "F1 Score: 0.9662222222222223\n",
      "🏃 View run random_forest_model at: https://dagshub.com/masaba019/mlops.mlflow/#/experiments/1/runs/258d139ac9ef4c7d8c01bb24934b66c0\n",
      "🧪 View experiment at: https://dagshub.com/masaba019/mlops.mlflow/#/experiments/1\n"
     ]
    }
   ],
   "source": [
    "with mlflow.start_run(run_name=\"random_forest_model\") as run:\n",
    "    print(\"Run ID: \", run.info.run_id)\n",
    "    print(\"Experiment ID:\" , run.info.experiment_id)\n",
    "\n",
    "    n_estimators = 100\n",
    "    max_depth = 3\n",
    "\n",
    "    mlflow.log_param(\"n_estimators\" , n_estimators)\n",
    "    mlflow.log_param(\"max_depth\" , max_depth)\n",
    "\n",
    "    # Train model\n",
    "    rf = RandomForestClassifier(n_estimators=n_estimators, max_depth=max_depth, random_state=42)\n",
    "    rf.fit(X_train, y_train)\n",
    "    \n",
    "    # Evaluate\n",
    "    y_pred = rf.predict(X_test)\n",
    "    accuracy = accuracy_score(y_test, y_pred)\n",
    "    f1 = f1_score(y_test, y_pred, average='weighted')\n",
    "\n",
    "    mlflow.log_metric(\"accuracy\", accuracy)\n",
    "    mlflow.log_metric(\"f1_score\", f1)\n",
    "\n",
    "    print(f\"Accuracy: {accuracy}\")\n",
    "    print(f\"F1 Score: {f1}\")\n"
   ]
  },
  {
   "cell_type": "markdown",
   "id": "b3ee1584",
   "metadata": {},
   "source": [
    "# Model Artifacts"
   ]
  },
  {
   "cell_type": "code",
   "execution_count": 4,
   "id": "81dd42a8",
   "metadata": {},
   "outputs": [
    {
     "name": "stdout",
     "output_type": "stream",
     "text": [
      "Run ID:  38ad62efb82742c8bdd2ed8510fc7de0\n",
      "Experiment ID: 1\n"
     ]
    },
    {
     "name": "stderr",
     "output_type": "stream",
     "text": [
      "\u001b[31m2025/10/12 19:45:46 WARNING mlflow.models.model: Model logged without a signature and input example. Please set `input_example` parameter when logging the model to auto infer the model signature.\u001b[0m\n"
     ]
    },
    {
     "name": "stdout",
     "output_type": "stream",
     "text": [
      "Model and artifacts logged. Accuracy: 0.9667\n",
      "🏃 View run model_artifact at: https://dagshub.com/masaba019/mlops.mlflow/#/experiments/1/runs/38ad62efb82742c8bdd2ed8510fc7de0\n",
      "🧪 View experiment at: https://dagshub.com/masaba019/mlops.mlflow/#/experiments/1\n"
     ]
    },
    {
     "data": {
      "image/png": "[encoded data removed]",
      "text/plain": [
       "<Figure size 1000x700 with 2 Axes>"
      ]
     },
     "metadata": {},
     "output_type": "display_data"
    },
    {
     "data": {
      "image/png": "[encoded data removed]",
      "text/plain": [
       "<Figure size 1200x800 with 1 Axes>"
      ]
     },
     "metadata": {},
     "output_type": "display_data"
    }
   ],
   "source": [
    "import matplotlib.pyplot as plt\n",
    "from sklearn.metrics import confusion_matrix\n",
    "import seaborn as sns\n",
    "\n",
    "with mlflow.start_run(run_name=\"model_artifact\") as run:\n",
    "    print(\"Run ID: \", run.info.run_id)\n",
    "    print(\"Experiment ID:\" , run.info.experiment_id)\n",
    "\n",
    "    n_estimators = 150\n",
    "    max_depth = 4\n",
    "\n",
    "    mlflow.log_params({\n",
    "        \"n_estimators\": n_estimators,\n",
    "        \"max_depth\": max_depth\n",
    "    })\n",
    "\n",
    "    # Train model\n",
    "    rf = RandomForestClassifier(n_estimators=n_estimators, max_depth=max_depth, random_state=42)\n",
    "    rf.fit(X_train, y_train)\n",
    "    \n",
    "    # Evaluate\n",
    "    y_pred = rf.predict(X_test)\n",
    "    accuracy = accuracy_score(y_test, y_pred)\n",
    "    f1 = f1_score(y_test, y_pred, average='weighted')\n",
    "\n",
    "\n",
    "    mlflow.log_metric(\"accuracy\", accuracy)\n",
    "    mlflow.log_metric(\"f1_score\", f1)\n",
    "\n",
    "    # log the model\n",
    "    mlflow.sklearn.log_model(rf , artifact_path=\"random_forest_model\")\n",
    "\n",
    "    # create and log confusion matrix plot\n",
    "    plt.figure(figsize=(10, 7))\n",
    "    cm = confusion_matrix(y_test, y_pred)\n",
    "    sns.heatmap(cm, annot=True, fmt='d', cmap='Blues')\n",
    "    plt.title('Confusion Matrix')\n",
    "    plt.ylabel('True Label')\n",
    "    plt.xlabel('Predicted Label')\n",
    "    plt.savefig(\"confusion_matrix.png\")\n",
    "    mlflow.log_artifact(\"confusion_matrix.png\", \"plots\")\n",
    "\n",
    "    # Log feature importance plot\n",
    "    plt.figure(figsize=(12, 8))\n",
    "    feature_names = load_iris().feature_names\n",
    "    importances = rf.feature_importances_\n",
    "    indices = np.argsort(importances)\n",
    "    plt.barh(range(len(indices)), importances[indices], align='center')\n",
    "    plt.yticks(range(len(indices)), [feature_names[i] for i in indices])\n",
    "    plt.title('Feature Importances')\n",
    "    plt.savefig(\"feature_importance.png\")\n",
    "    mlflow.log_artifact(\"feature_importance.png\", \"plots\")\n",
    "\n",
    "    print(f\"Model and artifacts logged. Accuracy: {accuracy:.4f}\")\n",
    "\n"
   ]
  },
  {
   "cell_type": "markdown",
   "id": "2c2f15e8",
   "metadata": {},
   "source": [
    "# Tags and Organisation\n",
    "\n",
    "1. Why do we add tags and what is their use?\n",
    "* Think of tags as human-readable labels or sticky notes for your MLflow runs. They store static, high-level metadata that helps you organize, search, and filter your experiments.\n",
    "* In your code, you set mlflow.set_tag(\"dataset\", \"Iris\"). In the MLflow UI, you can then search for tags.dataset = 'Iris' to see all runs that used this specific dataset.\n",
    "* You can filter for all runs by a specific author: tags.author = 'masaba019'.\n",
    "* You can find all classification models: tags.type = 'classification'.\n",
    "\n",
    "2. What is the use of the signature?\n",
    "* A model signature is one of the most important features for making your model reliable and easy to deploy. It acts as a formal contract or schema that explicitly defines the model's inputs and outputs.\n",
    "\n",
    "// The signature defines:\n",
    "\n",
    "** Inputs: The names of the input columns, their data types (e.g., float, integer, string), and their order.\n",
    "** Outputs: The name and data type of the model's prediction.\n",
    "\n",
    "// Key Uses of the Signature:\n",
    "\n",
    "a) Input Validation and Error Prevention (Most Important!)\n",
    "This is the primary benefit. When a model is deployed, it will receive data from various sources. The signature ensures that this data is in the correct format before it hits your model's prediction logic.\n",
    "\n",
    "Without a signature: If you send data with a missing column, a differently named column, or the wrong data type (e.g., sending \"5.0\" as a string instead of 5.0 as a float), your model will likely crash with a cryptic error.\n",
    "With a signature: MLflow's serving tools will use the signature to validate the incoming request. It will immediately reject the request with a clear error message like \"Input data is missing column 'sepal_width'\" or \"Invalid type for column 'petal_length', expected double but got string\". This makes your deployed model far more robust.\n",
    "\n",
    "b) Tooling and Deployment Automation\n",
    "The signature makes the model self-describing. Deployment tools can read the signature to understand how to interact with the model.\n",
    "\n",
    "API Generation: When you deploy a model with a signature using mlflow models serve, MLflow automatically knows how to structure the REST API endpoint. It knows what the input JSON should look like.\n",
    "Platform Integration: Other platforms (like Databricks, Seldon Core, or cloud ML services) can inspect the signature to correctly wire up data pipelines to your model without manual configuration."
   ]
  },
  {
   "cell_type": "code",
   "execution_count": 5,
   "id": "f0a87a5c",
   "metadata": {},
   "outputs": [
    {
     "name": "stdout",
     "output_type": "stream",
     "text": [
      "Organized experiment run completed. Accuracy: 0.9667\n",
      "🏃 View run organised_experiment at: https://dagshub.com/masaba019/mlops.mlflow/#/experiments/1/runs/3be9fff8b4ea437ba7019bbc504c058e\n",
      "🧪 View experiment at: https://dagshub.com/masaba019/mlops.mlflow/#/experiments/1\n"
     ]
    }
   ],
   "source": [
    "with mlflow.start_run(run_name=\"organised_experiment\"):\n",
    "    mlflow.set_tag(\"model\", \"RandomForestClassifier\")\n",
    "    mlflow.set_tag(\"dataset\", \"Iris\")\n",
    "    mlflow.set_tag(\"author\", \"masaba019\")\n",
    "    mlflow.set_tag(\"version\", \"1.0\")\n",
    "    mlflow.set_tag(\"type\", \"classification\")\n",
    "    mlflow.set_tag(\"organization\", \"mlops\")\n",
    "\n",
    "    n_estimators = 200\n",
    "    max_depth = 5\n",
    "\n",
    "    mlflow.log_params({\n",
    "        \"n_estimators\": n_estimators,\n",
    "        \"max_depth\": max_depth\n",
    "    })\n",
    "\n",
    "    # Train model\n",
    "    rf = RandomForestClassifier(n_estimators=n_estimators, max_depth=max_depth, random_state=42)\n",
    "    rf.fit(X_train, y_train)\n",
    "    \n",
    "    # Evaluate\n",
    "    y_pred = rf.predict(X_test)\n",
    "    accuracy = accuracy_score(y_test, y_pred)\n",
    "    f1 = f1_score(y_test, y_pred, average='weighted')\n",
    "\n",
    "\n",
    "    mlflow.log_metric(\"accuracy\", accuracy)\n",
    "    mlflow.log_metric(\"f1_score\", f1)\n",
    "\n",
    "    # log model with the signature and input example\n",
    "    from mlflow.models.signature import infer_signature\n",
    "    input_example = X_train[:5]\n",
    "\n",
    "    signature = infer_signature(X_train , rf.predict(X_train))\n",
    "    mlflow.sklearn.log_model(rf, \"model\", signature=signature, input_example=input_example)\n",
    "\n",
    "    print(f\"Organized experiment run completed. Accuracy: {accuracy:.4f}\")"
   ]
  },
  {
   "cell_type": "markdown",
   "id": "fde7994c",
   "metadata": {},
   "source": [
    "## Search and Discovery\n"
   ]
  },
  {
   "cell_type": "code",
   "execution_count": 13,
   "id": "4a1d312e",
   "metadata": {},
   "outputs": [
    {
     "name": "stdout",
     "output_type": "stream",
     "text": [
      "Experiment ID: 1\n",
      "Experiment Name: iris_classification\n"
     ]
    }
   ],
   "source": [
    "from mlflow.tracking import MlflowClient\n",
    "client = MlflowClient()\n",
    "\n",
    "experiment = mlflow.get_experiment_by_name(\"iris_classification\")\n",
    "experiment_id = experiment.experiment_id\n",
    "\n",
    "print(f\"Experiment ID: {experiment_id}\")\n",
    "print(f\"Experiment Name: {experiment.name}\")\n",
    "\n",
    "runs = client.search_runs(\n",
    "    experiment_ids=[experiment_id],\n",
    "    order_by=[\"metrics.accuracy DESC\"]\n",
    ")"
   ]
  },
  {
   "cell_type": "code",
   "execution_count": 15,
   "id": "5e059bf4",
   "metadata": {},
   "outputs": [
    {
     "name": "stdout",
     "output_type": "stream",
     "text": [
      "Run ID: 3be9fff8b4ea437ba7019bbc504c058e\n",
      "  Accuracy: 0.9666666666666667\n",
      "  F1 Score: 0.9664799253034547\n",
      "  Parameters: {'n_estimators': '200', 'max_depth': '5'}\n",
      "  Tags: {'model': 'RandomForestClassifier', 'mlflow.user': 'masaba019', 'mlflow.source.name': '/workspaces/mlops/.venv/lib/python3.12/site-packages/ipykernel_launcher.py', 'mlflow.source.type': 'LOCAL', 'mlflow.runName': 'organised_experiment', 'version': '1.0', 'mlflow.log-model.history': '[{\"run_id\": \"3be9fff8b4ea437ba7019bbc504c058e\", \"artifact_path\": \"model\", \"utc_time_created\": \"2025-10-12 19:59:04.941962\", \"model_uuid\": \"514ee23560ab4b658abbb52e94fca651\", \"flavors\": {\"python_function\": {\"model_path\": \"model.pkl\", \"predict_fn\": \"predict\", \"loader_module\": \"mlflow.sklearn\", \"python_version\": \"3.12.1\", \"env\": {\"conda\": \"conda.yaml\", \"virtualenv\": \"python_env.yaml\"}}, \"sklearn\": {\"pickled_model\": \"model.pkl\", \"sklearn_version\": \"1.7.2\", \"serialization_format\": \"cloudpickle\", \"code\": null}}}]', 'organization': 'mlops', 'author': 'masaba019', 'type': 'classification', 'dataset': 'Iris'}\n",
      "----------------------------------------\n",
      "Run ID: 38ad62efb82742c8bdd2ed8510fc7de0\n",
      "  Accuracy: 0.9666666666666667\n",
      "  F1 Score: 0.9664799253034547\n",
      "  Parameters: {'n_estimators': '150', 'max_depth': '4'}\n",
      "  Tags: {'mlflow.log-model.history': '[{\"run_id\": \"38ad62efb82742c8bdd2ed8510fc7de0\", \"artifact_path\": \"random_forest_model\", \"utc_time_created\": \"2025-10-12 19:45:42.261780\", \"model_uuid\": \"4b28dff5942f4ca6be32c3577ba349ec\", \"flavors\": {\"python_function\": {\"model_path\": \"model.pkl\", \"predict_fn\": \"predict\", \"loader_module\": \"mlflow.sklearn\", \"python_version\": \"3.12.1\", \"env\": {\"conda\": \"conda.yaml\", \"virtualenv\": \"python_env.yaml\"}}, \"sklearn\": {\"pickled_model\": \"model.pkl\", \"sklearn_version\": \"1.7.2\", \"serialization_format\": \"cloudpickle\", \"code\": null}}}]', 'mlflow.user': 'masaba019', 'mlflow.source.name': '/workspaces/mlops/.venv/lib/python3.12/site-packages/ipykernel_launcher.py', 'mlflow.source.type': 'LOCAL', 'mlflow.runName': 'model_artifact'}\n",
      "----------------------------------------\n",
      "Run ID: 8d437400b3c44aa198ef3a45476f3f03\n",
      "  Accuracy: 0.9666666666666667\n",
      "  F1 Score: 0.9662222222222223\n",
      "  Parameters: {'n_estimators': '150', 'max_depth': '4'}\n",
      "  Tags: {'mlflow.user': 'masaba019', 'mlflow.source.name': '/workspaces/mlops/.venv/lib/python3.12/site-packages/ipykernel_launcher.py', 'mlflow.source.type': 'LOCAL', 'mlflow.runName': 'model_artifact'}\n",
      "----------------------------------------\n",
      "Run ID: 5321c1e9e29646679aad373a784bc343\n",
      "  Accuracy: 0.9666666666666667\n",
      "  F1 Score: 0.9662222222222223\n",
      "  Parameters: {'n_estimators': '150', 'max_depth': '4'}\n",
      "  Tags: {'mlflow.user': 'masaba019', 'mlflow.source.name': '/workspaces/mlops/.venv/lib/python3.12/site-packages/ipykernel_launcher.py', 'mlflow.source.type': 'LOCAL', 'mlflow.runName': 'model_artifact'}\n",
      "----------------------------------------\n",
      "Run ID: 77a51aea0fac4b74abf31236f532268b\n",
      "  Accuracy: 0.9666666666666667\n",
      "  F1 Score: 0.9662222222222223\n",
      "  Parameters: {'n_estimators': '150', 'max_depth': '4'}\n",
      "  Tags: {'mlflow.user': 'masaba019', 'mlflow.source.name': '/workspaces/mlops/.venv/lib/python3.12/site-packages/ipykernel_launcher.py', 'mlflow.source.type': 'LOCAL', 'mlflow.runName': 'model_artifact'}\n",
      "----------------------------------------\n",
      "Run ID: 258d139ac9ef4c7d8c01bb24934b66c0\n",
      "  Accuracy: 0.9666666666666667\n",
      "  F1 Score: 0.9662222222222223\n",
      "  Parameters: {'n_estimators': '100', 'max_depth': '3'}\n",
      "  Tags: {'mlflow.user': 'masaba019', 'mlflow.source.name': '/workspaces/mlops/.venv/lib/python3.12/site-packages/ipykernel_launcher.py', 'mlflow.source.type': 'LOCAL', 'mlflow.runName': 'random_forest_model'}\n",
      "----------------------------------------\n",
      "Run ID: c430b1f554eb4b99859d15973adf6bb7\n"
     ]
    },
    {
     "ename": "KeyError",
     "evalue": "'accuracy'",
     "output_type": "error",
     "traceback": [
      "\u001b[31m---------------------------------------------------------------------------\u001b[39m",
      "\u001b[31mKeyError\u001b[39m                                  Traceback (most recent call last)",
      "\u001b[36mCell\u001b[39m\u001b[36m \u001b[39m\u001b[32mIn[15]\u001b[39m\u001b[32m, line 3\u001b[39m\n\u001b[32m      1\u001b[39m \u001b[38;5;28;01mfor\u001b[39;00m run \u001b[38;5;129;01min\u001b[39;00m runs:\n\u001b[32m      2\u001b[39m     \u001b[38;5;28mprint\u001b[39m(\u001b[33mf\u001b[39m\u001b[33m\"\u001b[39m\u001b[33mRun ID: \u001b[39m\u001b[38;5;132;01m{\u001b[39;00mrun.info.run_id\u001b[38;5;132;01m}\u001b[39;00m\u001b[33m\"\u001b[39m)\n\u001b[32m----> \u001b[39m\u001b[32m3\u001b[39m     \u001b[38;5;28mprint\u001b[39m(\u001b[33mf\u001b[39m\u001b[33m\"\u001b[39m\u001b[33m  Accuracy: \u001b[39m\u001b[38;5;132;01m{\u001b[39;00m\u001b[43mrun\u001b[49m\u001b[43m.\u001b[49m\u001b[43mdata\u001b[49m\u001b[43m.\u001b[49m\u001b[43mmetrics\u001b[49m\u001b[43m[\u001b[49m\u001b[33;43m'\u001b[39;49m\u001b[33;43maccuracy\u001b[39;49m\u001b[33;43m'\u001b[39;49m\u001b[43m]\u001b[49m\u001b[38;5;132;01m}\u001b[39;00m\u001b[33m\"\u001b[39m)\n\u001b[32m      4\u001b[39m     \u001b[38;5;28mprint\u001b[39m(\u001b[33mf\u001b[39m\u001b[33m\"\u001b[39m\u001b[33m  F1 Score: \u001b[39m\u001b[38;5;132;01m{\u001b[39;00mrun.data.metrics[\u001b[33m'\u001b[39m\u001b[33mf1_score\u001b[39m\u001b[33m'\u001b[39m]\u001b[38;5;132;01m}\u001b[39;00m\u001b[33m\"\u001b[39m)\n\u001b[32m      5\u001b[39m     \u001b[38;5;28mprint\u001b[39m(\u001b[33mf\u001b[39m\u001b[33m\"\u001b[39m\u001b[33m  Parameters: \u001b[39m\u001b[38;5;132;01m{\u001b[39;00mrun.data.params\u001b[38;5;132;01m}\u001b[39;00m\u001b[33m\"\u001b[39m)\n",
      "\u001b[31mKeyError\u001b[39m: 'accuracy'"
     ]
    }
   ],
   "source": [
    "for run in runs:\n",
    "    print(f\"Run ID: {run.info.run_id}\")\n",
    "    print(f\"  Accuracy: {run.data.metrics['accuracy']}\")\n",
    "    print(f\"  F1 Score: {run.data.metrics['f1_score']}\")\n",
    "    print(f\"  Parameters: {run.data.params}\")\n",
    "    print(f\"  Tags: {run.data.tags}\")\n",
    "    print(\"-\" * 40)"
   ]
  },
  {
   "cell_type": "markdown",
   "id": "1f8fbeea",
   "metadata": {},
   "source": [
    "# AutoLogging"
   ]
  },
  {
   "cell_type": "code",
   "execution_count": 16,
   "id": "478b6457",
   "metadata": {},
   "outputs": [
    {
     "name": "stderr",
     "output_type": "stream",
     "text": [
      "2025/10/12 20:33:16 WARNING mlflow.utils.autologging_utils: MLflow sklearn autologging is known to be compatible with 0.24.1 <= scikit-learn <= 1.6.1, but the installed version is 1.7.2. If you encounter errors during autologging, try upgrading / downgrading scikit-learn to a compatible version, or try upgrading MLflow.\n"
     ]
    },
    {
     "name": "stdout",
     "output_type": "stream",
     "text": [
      "Run ID:  4cb9d5fe517149e0afde2f4d0be46953\n",
      "Experiment ID: 1\n",
      "Autologged Model - Accuracy: 0.9666666666666667\n",
      "Autologged Model - F1 Score: 0.9664799253034547\n",
      "🏃 View run autologged_model at: https://dagshub.com/masaba019/mlops.mlflow/#/experiments/1/runs/4cb9d5fe517149e0afde2f4d0be46953\n",
      "🧪 View experiment at: https://dagshub.com/masaba019/mlops.mlflow/#/experiments/1\n"
     ]
    }
   ],
   "source": [
    "mlflow.sklearn.autolog()  # Enable autologging for scikit-learn\n",
    "\n",
    "with mlflow.start_run(run_name=\"autologged_model\") as run:\n",
    "    print(\"Run ID: \", run.info.run_id)\n",
    "    print(\"Experiment ID:\" , run.info.experiment_id)\n",
    "\n",
    "    n_estimators = 120\n",
    "    max_depth = 6\n",
    "\n",
    "    # Train model\n",
    "    rf = RandomForestClassifier(n_estimators=n_estimators, max_depth=max_depth, random_state=42)\n",
    "    rf.fit(X_train, y_train)\n",
    "    \n",
    "    # Evaluate\n",
    "    y_pred = rf.predict(X_test)\n",
    "    accuracy = accuracy_score(y_test, y_pred)\n",
    "    f1 = f1_score(y_test, y_pred, average='weighted')\n",
    "\n",
    "    print(f\"Autologged Model - Accuracy: {accuracy}\")\n",
    "    print(f\"Autologged Model - F1 Score: {f1}\")"
   ]
  },
  {
   "cell_type": "markdown",
   "id": "2359efa5",
   "metadata": {},
   "source": [
    "# Parent-Child Runs (Nested Runs)"
   ]
  },
  {
   "cell_type": "code",
   "execution_count": 17,
   "id": "bd8d81ce",
   "metadata": {},
   "outputs": [
    {
     "name": "stdout",
     "output_type": "stream",
     "text": [
      "Parent Run ID:  216db7cd39b94933b76f0ffe6b14428e\n",
      "Experiment ID: 1\n",
      " Child Run ID:  ff38c5b501de4398a3e1e49d2a53a980\n",
      "  Child Model - Accuracy: 0.9333333333333333\n",
      "  Child Model - F1 Score: 0.9333333333333333\n",
      "🏃 View run child_50_3 at: https://dagshub.com/masaba019/mlops.mlflow/#/experiments/1/runs/ff38c5b501de4398a3e1e49d2a53a980\n",
      "🧪 View experiment at: https://dagshub.com/masaba019/mlops.mlflow/#/experiments/1\n",
      " Child Run ID:  b2e09193e8144bc8bcd8944a9c9f2d2b\n",
      "  Child Model - Accuracy: 0.9666666666666667\n",
      "  Child Model - F1 Score: 0.9664799253034547\n",
      "🏃 View run child_50_5 at: https://dagshub.com/masaba019/mlops.mlflow/#/experiments/1/runs/b2e09193e8144bc8bcd8944a9c9f2d2b\n",
      "🧪 View experiment at: https://dagshub.com/masaba019/mlops.mlflow/#/experiments/1\n",
      " Child Run ID:  b05588c89faf41dcb14687aaa93ea739\n",
      "  Child Model - Accuracy: 0.9666666666666667\n",
      "  Child Model - F1 Score: 0.9664799253034547\n",
      "🏃 View run child_100_3 at: https://dagshub.com/masaba019/mlops.mlflow/#/experiments/1/runs/b05588c89faf41dcb14687aaa93ea739\n",
      "🧪 View experiment at: https://dagshub.com/masaba019/mlops.mlflow/#/experiments/1\n",
      " Child Run ID:  72ba8a1716cc40de9d805b72b4ec0777\n",
      "  Child Model - Accuracy: 0.9666666666666667\n",
      "  Child Model - F1 Score: 0.9664799253034547\n",
      "🏃 View run child_100_5 at: https://dagshub.com/masaba019/mlops.mlflow/#/experiments/1/runs/72ba8a1716cc40de9d805b72b4ec0777\n",
      "🧪 View experiment at: https://dagshub.com/masaba019/mlops.mlflow/#/experiments/1\n",
      "🏃 View run parent_hyperparameter_tuning at: https://dagshub.com/masaba019/mlops.mlflow/#/experiments/1/runs/216db7cd39b94933b76f0ffe6b14428e\n",
      "🧪 View experiment at: https://dagshub.com/masaba019/mlops.mlflow/#/experiments/1\n"
     ]
    }
   ],
   "source": [
    "with mlflow.start_run(run_name=\"parent_hyperparameter_tuning\") as parent_run:\n",
    "    print(\"Parent Run ID: \", parent_run.info.run_id)\n",
    "    print(\"Experiment ID:\" , parent_run.info.experiment_id)\n",
    "\n",
    "    n_estimators_list = [50, 100]\n",
    "    max_depth_list = [3, 5]\n",
    "\n",
    "    for n_estimators in n_estimators_list:\n",
    "        for max_depth in max_depth_list:\n",
    "            with mlflow.start_run(run_name=f\"child_{n_estimators}_{max_depth}\", nested=True) as child_run:\n",
    "                print(\" Child Run ID: \", child_run.info.run_id)\n",
    "\n",
    "                # Log hyperparameters\n",
    "                mlflow.log_param(\"n_estimators\", n_estimators)\n",
    "                mlflow.log_param(\"max_depth\", max_depth)\n",
    "\n",
    "                # Train model\n",
    "                rf = RandomForestClassifier(n_estimators=n_estimators, max_depth=max_depth, random_state=42)\n",
    "                rf.fit(X_train, y_train)\n",
    "                \n",
    "                # Evaluate\n",
    "                y_pred = rf.predict(X_test)\n",
    "                accuracy = accuracy_score(y_test, y_pred)\n",
    "                f1 = f1_score(y_test, y_pred, average='weighted')\n",
    "\n",
    "                # Log metrics\n",
    "                mlflow.log_metric(\"accuracy\", accuracy)\n",
    "                mlflow.log_metric(\"f1_score\", f1)\n",
    "\n",
    "                print(f\"  Child Model - Accuracy: {accuracy}\")\n",
    "                print(f\"  Child Model - F1 Score: {f1}\")"
   ]
  },
  {
   "cell_type": "code",
   "execution_count": null,
   "id": "ad6794a2",
   "metadata": {},
   "outputs": [],
   "source": []
  },
  {
   "cell_type": "code",
   "execution_count": null,
   "id": "be80abe9",
   "metadata": {},
   "outputs": [],
   "source": []
  },
  {
   "cell_type": "code",
   "execution_count": null,
   "id": "c3b7dc73",
   "metadata": {},
   "outputs": [],
   "source": []
  },
  {
   "cell_type": "code",
   "execution_count": null,
   "id": "69d3968b",
   "metadata": {},
   "outputs": [],
   "source": []
  }
 ],
 "metadata": {
  "kernelspec": {
   "display_name": ".venv",
   "language": "python",
   "name": "python3"
  },
  "language_info": {
   "codemirror_mode": {
    "name": "ipython",
    "version": 3
   },
   "file_extension": ".py",
   "mimetype": "text/x-python",
   "name": "python",
   "nbconvert_exporter": "python",
   "pygments_lexer": "ipython3",
   "version": "3.12.1"
  }
 },
 "nbformat": 4,
 "nbformat_minor": 5
}
